{
 "cells": [
  {
   "cell_type": "code",
   "execution_count": 4,
   "id": "fd57220f",
   "metadata": {
    "editable": true,
    "scrolled": true,
    "slideshow": {
     "slide_type": ""
    },
    "tags": []
   },
   "outputs": [
    {
     "name": "stdin",
     "output_type": "stream",
     "text": [
      "search value: test\n"
     ]
    },
    {
     "name": "stdout",
     "output_type": "stream",
     "text": [
      "Google\n",
      "<selenium.webdriver.remote.webelement.WebElement (session=\"85a4904dfbab02e6c59d946ce4ccb8a3\", element=\"f.31E5620971381C5A8EBE1F05BABBBC1D.d.A873B0977B074AEC50555FCF19995BFD.e.72\")>\n"
     ]
    }
   ],
   "source": [
    "from selenium import webdriver\n",
    "from selenium.webdriver.common.by import By\n",
    "from selenium.webdriver.common.keys import Keys\n",
    "from webdriver_manager.chrome import ChromeDriverManager\n",
    "from selenium.webdriver.chrome.options import Options\n",
    "import os\n",
    "import re\n",
    "\n",
    "# pip install selenium\n",
    "# pip install webdriver_manager\n",
    "\n",
    "def setup_class(cls):\n",
    "    cls.driver = webdriver.Chrome(ChromeDriverManager().install())\n",
    "    \n",
    "filename =   os.path.join(os.path.dirname('__file__'),'target_1.png')\n",
    "\n",
    "serch_value = \"\"\n",
    "while serch_value = re.match(\"^aaa\", serch_value): # serch_value が \"aaa\"ではない間、処理を繰り返す\n",
    "    # 文字を入力する\n",
    "    serch_value = input(\"最初にaaaを含める:\")  # serch_value に文字を読み込む\n",
    "    print(text, \"と入力されました。\")\n",
    "    print(\"入力が無効です\")\n",
    "    # ループの先頭に戻る\n",
    "    continue\n",
    "\n",
    "driver = webdriver.Chrome()\n",
    "driver.get(\"https://www.google.com/\")\n",
    "driver.save_screenshot(filename)\n",
    "\n",
    "\n",
    "\n",
    "for num in range(5, 10):\n",
    "    print(driver.title)\n",
    "    form = driver.find_element(By.ID, \"APjFqb\")\n",
    "    print(form)\n",
    "    form.send_keys(serch_value)\n",
    "    form.send_keys(Keys.ENTER)"
   ]
  },
  {
   "cell_type": "code",
   "execution_count": 3,
   "id": "6c19bc2b-4c88-4f70-b4a3-fe246c7ee4c9",
   "metadata": {},
   "outputs": [
    {
     "name": "stdout",
     "output_type": "stream",
     "text": [
      "Collecting webdriver_manager\n",
      "  Downloading webdriver_manager-4.0.1-py2.py3-none-any.whl.metadata (12 kB)\n",
      "Requirement already satisfied: requests in /opt/anaconda3/lib/python3.11/site-packages (from webdriver_manager) (2.31.0)\n",
      "Requirement already satisfied: python-dotenv in /opt/anaconda3/lib/python3.11/site-packages (from webdriver_manager) (0.21.0)\n",
      "Requirement already satisfied: packaging in /opt/anaconda3/lib/python3.11/site-packages (from webdriver_manager) (23.1)\n",
      "Requirement already satisfied: charset-normalizer<4,>=2 in /opt/anaconda3/lib/python3.11/site-packages (from requests->webdriver_manager) (2.0.4)\n",
      "Requirement already satisfied: idna<4,>=2.5 in /opt/anaconda3/lib/python3.11/site-packages (from requests->webdriver_manager) (3.4)\n",
      "Requirement already satisfied: urllib3<3,>=1.21.1 in /opt/anaconda3/lib/python3.11/site-packages (from requests->webdriver_manager) (2.0.7)\n",
      "Requirement already satisfied: certifi>=2017.4.17 in /opt/anaconda3/lib/python3.11/site-packages (from requests->webdriver_manager) (2024.2.2)\n",
      "Downloading webdriver_manager-4.0.1-py2.py3-none-any.whl (27 kB)\n",
      "Installing collected packages: webdriver_manager\n",
      "Successfully installed webdriver_manager-4.0.1\n",
      "Note: you may need to restart the kernel to use updated packages.\n"
     ]
    }
   ],
   "source": []
  },
  {
   "cell_type": "code",
   "execution_count": null,
   "id": "6534ffbf-6402-44db-979c-b93d30dae8e3",
   "metadata": {},
   "outputs": [],
   "source": []
  },
  {
   "cell_type": "code",
   "execution_count": null,
   "id": "0b960887-9e8f-4778-87c7-07e6c1039b02",
   "metadata": {},
   "outputs": [],
   "source": []
  }
 ],
 "metadata": {
  "celltoolbar": "Slideshow",
  "kernelspec": {
   "display_name": "Python 3 (ipykernel)",
   "language": "python",
   "name": "python3"
  },
  "language_info": {
   "codemirror_mode": {
    "name": "ipython",
    "version": 3
   },
   "file_extension": ".py",
   "mimetype": "text/x-python",
   "name": "python",
   "nbconvert_exporter": "python",
   "pygments_lexer": "ipython3",
   "version": "3.11.7"
  },
  "widgets": {
   "application/vnd.jupyter.widget-state+json": {
    "state": {},
    "version_major": 2,
    "version_minor": 0
   }
  }
 },
 "nbformat": 4,
 "nbformat_minor": 5
}
