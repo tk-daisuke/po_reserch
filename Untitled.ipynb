{
 "cells": [
  {
   "cell_type": "code",
   "execution_count": 1,
   "id": "fd57220f",
   "metadata": {
    "editable": true,
    "scrolled": true,
    "slideshow": {
     "slide_type": ""
    },
    "tags": []
   },
   "outputs": [],
   "source": [
    "from selenium import webdriver\n",
    "from selenium.webdriver.common.by import By\n",
    "from selenium.webdriver.common.keys import Keys\n",
    "from webdriver_manager.chrome import ChromeDriverManager\n",
    "from selenium.webdriver.chrome.options import Options\n",
    "import os\n",
    "\n",
    "# pip install selenium\n",
    "# pip install webdriver_manager\n",
    "\n",
    "def setup_class(cls):\n",
    "    cls.driver = webdriver.Chrome(ChromeDriverManager().install())\n",
    "    \n",
    "filename =   os.path.join(os.path.dirname('__file__'),'target_1.png')\n",
    "serch_value= str(input(\"search value:\"))\n",
    "driver = webdriver.Chrome()\n",
    "driver.get(\"https://www.google.com/\")\n",
    "driver.save_screenshot(filename)\n",
    "\n",
    "print(driver.title)\n",
    "form = driver.find_element(By.ID, \"APjFqb\")\n",
    "print(form)\n",
    "form.send_keys(serch_value)\n",
    "form.send_keys(Keys.ENTER)"
   ]
  },
  {
   "cell_type": "code",
   "execution_count": null,
   "id": "6c19bc2b-4c88-4f70-b4a3-fe246c7ee4c9",
   "metadata": {},
   "outputs": [],
   "source": []
  },
  {
   "cell_type": "code",
   "execution_count": null,
   "id": "0b960887-9e8f-4778-87c7-07e6c1039b02",
   "metadata": {},
   "outputs": [],
   "source": []
  }
 ],
 "metadata": {
  "celltoolbar": "Slideshow",
  "kernelspec": {
   "display_name": "Python 3 (ipykernel)",
   "language": "python",
   "name": "python3"
  },
  "language_info": {
   "codemirror_mode": {
    "name": "ipython",
    "version": 3
   },
   "file_extension": ".py",
   "mimetype": "text/x-python",
   "name": "python",
   "nbconvert_exporter": "python",
   "pygments_lexer": "ipython3",
   "version": "3.10.9"
  },
  "widgets": {
   "application/vnd.jupyter.widget-state+json": {
    "state": {},
    "version_major": 2,
    "version_minor": 0
   }
  }
 },
 "nbformat": 4,
 "nbformat_minor": 5
}
