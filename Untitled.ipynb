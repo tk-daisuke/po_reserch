{
 "cells": [
  {
   "cell_type": "code",
   "execution_count": 39,
   "id": "fd57220f",
   "metadata": {
    "editable": true,
    "slideshow": {
     "slide_type": ""
    },
    "tags": []
   },
   "outputs": [
    {
     "name": "stdin",
     "output_type": "stream",
     "text": [
      "最初にaaaを含める: aaaU0004\n",
      "開始値を入力してください:  100\n",
      "終了値を入力してください:  102\n"
     ]
    },
    {
     "name": "stdout",
     "output_type": "stream",
     "text": [
      "数字の部分:0004\n",
      "桁数:4\n",
      "Google\n",
      "aaaU0100 - Google 検索\n",
      "aaaU0100 - Google 検索\n"
     ]
    }
   ],
   "source": [
    "from selenium import webdriver\n",
    "from selenium.webdriver.common.by import By\n",
    "from selenium.webdriver.common.keys import Keys\n",
    "from webdriver_manager.chrome import ChromeDriverManager\n",
    "from selenium.webdriver.chrome.options import Options\n",
    "import os\n",
    "import re\n",
    "\n",
    "# pip install selenium\n",
    "# pip install webdriver_manager\n",
    "\n",
    "# ChromeDriverのバージョンを揃える\n",
    "def setup_class(cls):\n",
    "    cls.driver = webdriver.Chrome(ChromeDriverManager().install())\n",
    "    \n",
    "serch_value = \"\"\n",
    "\n",
    "# 文字を入力する\n",
    "serch_value = input(\"最初にaaaUを含める:\")\n",
    "while not (re.match(\"^aaaU\", serch_value) and re.search(r'\\d+', serch_value)):\n",
    "    print(serch_value, \"と入力されました。\")\n",
    "    print(\"入力が無効です\")\n",
    "\n",
    "    numbers_match = re.search(r'\\d+', serch_value)\n",
    "    if not numbers_match:\n",
    "        print(\"数字が見つかりませんでした。\")\n",
    "    \n",
    "    # ループの先頭に戻る\n",
    "    serch_value = input(\"最初にaaaUを含める:\")\n",
    "        \n",
    "# 範囲を指定\n",
    "start = int(input(\"開始値を入力してください: \"))\n",
    "\n",
    "# end が start + 1 から start + 100 の範囲になるまで入力を促す\n",
    "while True:\n",
    "    end = int(input(\"終了値を入力してください: \"))\n",
    "    if start  <= end <= start + 100:\n",
    "        break\n",
    "        \n",
    "    else:\n",
    "        print(\"終了値は開始値 から + 100 の範囲である必要があります。もう一度入力してください。\")\n",
    "\n",
    "\n",
    "\n",
    "numbers_part = re.search(r'\\d+', serch_value).group(0)\n",
    "digit_count = len(numbers_part)\n",
    "serch_value = f'aaaU{str(start).zfill(digit_count)}'\n",
    "\n",
    "print(\"数字の部分:\" + str(numbers_part))\n",
    "print(\"桁数:\"+ str(digit_count))\n",
    "\n",
    "\n",
    "driver = webdriver.Chrome()\n",
    "driver.get(\"https://www.google.com/\")\n",
    "\n",
    "# 範囲内の数字に対してforループを実行\n",
    "for i in range(start, end + 1):\n",
    "    print(driver.title)\n",
    "    form = driver.find_element(By.ID, \"APjFqb\")\n",
    "    form.clear()\n",
    "    form.send_keys(serch_value)\n",
    "    form.send_keys(Keys.ENTER)\n",
    "    # ScreenShot\n",
    "    filename = os.path.join(os.path.dirname('__file__')+'/img/','target_' + str(i) +'.png')\n",
    "    # driver.save_screenshot(filename)\n",
    "    serch_value = f'aaaU{str(i).zfill(digit_count)}'\n",
    "\n",
    "    "
   ]
  },
  {
   "cell_type": "code",
   "execution_count": null,
   "id": "6c19bc2b-4c88-4f70-b4a3-fe246c7ee4c9",
   "metadata": {},
   "outputs": [],
   "source": []
  },
  {
   "cell_type": "code",
   "execution_count": null,
   "id": "6534ffbf-6402-44db-979c-b93d30dae8e3",
   "metadata": {},
   "outputs": [],
   "source": []
  },
  {
   "cell_type": "code",
   "execution_count": null,
   "id": "0b960887-9e8f-4778-87c7-07e6c1039b02",
   "metadata": {},
   "outputs": [],
   "source": []
  },
  {
   "cell_type": "code",
   "execution_count": null,
   "id": "bc31d761-9ff7-45b8-918b-a900bab66eac",
   "metadata": {},
   "outputs": [],
   "source": []
  }
 ],
 "metadata": {
  "celltoolbar": "Slideshow",
  "kernelspec": {
   "display_name": "Python 3 (ipykernel)",
   "language": "python",
   "name": "python3"
  },
  "language_info": {
   "codemirror_mode": {
    "name": "ipython",
    "version": 3
   },
   "file_extension": ".py",
   "mimetype": "text/x-python",
   "name": "python",
   "nbconvert_exporter": "python",
   "pygments_lexer": "ipython3",
   "version": "3.11.7"
  },
  "widgets": {
   "application/vnd.jupyter.widget-state+json": {
    "state": {},
    "version_major": 2,
    "version_minor": 0
   }
  }
 },
 "nbformat": 4,
 "nbformat_minor": 5
}
