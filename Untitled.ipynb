{
 "cells": [
  {
   "cell_type": "code",
   "execution_count": 40,
   "id": "fd57220f",
   "metadata": {
    "editable": true,
    "slideshow": {
     "slide_type": ""
    },
    "tags": []
   },
   "outputs": [
    {
     "name": "stdout",
     "output_type": "stream",
     "text": [
      "最初にaaaUを含める: aaaU40000\n",
      "開始値を入力してください:  98\n",
      "終了値を入力してください:  102\n"
     ]
    },
    {
     "name": "stdout",
     "output_type": "stream",
     "text": [
      "数字の部分:40000\n",
      "桁数:5\n",
      "Google\n",
      "aaaU00098 - Google 検索\n",
      "aaaU00099 - Google 検索\n",
      "aaaU00100 - Google 検索\n",
      "aaaU00101 - Google 検索\n"
     ]
    }
   ],
   "source": [
    "from selenium import webdriver\n",
    "from selenium.webdriver.common.by import By\n",
    "from selenium.webdriver.common.keys import Keys\n",
    "from webdriver_manager.chrome import ChromeDriverManager\n",
    "from selenium.webdriver.chrome.options import Options\n",
    "import os\n",
    "import re\n",
    "import pandas as pd\n",
    "\n",
    "\n",
    "# pip install selenium\n",
    "# pip install webdriver_manager\n",
    "\n",
    "\n",
    "\n",
    "# ChromeDriverのバージョンを揃える\n",
    "def setup_class(cls):\n",
    "    cls.driver = webdriver.Chrome(ChromeDriverManager().install())\n",
    "    \n",
    "\n",
    "\n",
    "# 文字を入力する\n",
    "serch_value = \"\"\n",
    "serch_value = input(\"最初にaaaUを含める:\")\n",
    "while not (re.match(\"^aaaU\", serch_value) and re.search(r'\\d+', serch_value)):\n",
    "    print(serch_value, \"と入力されました。\")\n",
    "    print(\"入力が無効です\")\n",
    "\n",
    "    numbers_match = re.search(r'\\d+', serch_value)\n",
    "    if not numbers_match:\n",
    "        print(\"数字が見つかりませんでした。\")\n",
    "    \n",
    "    # ループの先頭に戻る\n",
    "    serch_value = input(\"最初にaaaUを含める:\")\n",
    "        \n",
    "# 範囲を指定\n",
    "start = int(input(\"開始値を入力してください: \"))\n",
    "\n",
    "# end が start + 1 から start + 100 の範囲になるまで入力を促す\n",
    "while True:\n",
    "    end = int(input(\"終了値を入力してください: \"))\n",
    "    if start  <= end <= start + 100:\n",
    "        break\n",
    "        \n",
    "    else:\n",
    "        print(\"終了値は開始値 から + 100 の範囲である必要があります。もう一度入力してください。\")\n",
    "\n",
    "\n",
    "\n",
    "numbers_part = re.search(r'\\d+', serch_value).group(0)\n",
    "digit_count = len(numbers_part)\n",
    "serch_value = f'aaaU{str(start).zfill(digit_count)}'\n",
    "\n",
    "print(\"数字の部分:\" + str(numbers_part))\n",
    "print(\"桁数:\"+ str(digit_count))\n",
    "\n",
    "#chrome起動\n",
    "driver = webdriver.Chrome()\n",
    "driver.get(\"https://www.google.com/\")\n",
    "#pandas\n",
    "a_df = pd.DataFrame(columns=['A','B'] )\n",
    "data = []\n",
    "# 範囲内の数字に対してforループを実行\n",
    "for i in range(start, end + 1):\n",
    "    #web\n",
    "    print(driver.title)\n",
    "    form = driver.find_element(By.ID, \"APjFqb\")\n",
    "    form.clear()\n",
    "    form.send_keys(serch_value)\n",
    "    form.send_keys(Keys.ENTER)\n",
    "    \n",
    "    # pandas\n",
    "    for row in rows[1:]:\n",
    "        row_data = [td.text for td in row.find_elements_by_tag_name(\"td\")]\n",
    "        data.append(row_data)\n",
    "\n",
    "    \n",
    "    # ScreenShot\n",
    "    # filename = os.path.join(os.path.dirname('__file__')+'/img/','target_' + str(i) +'.png')\n",
    "    # driver.save_screenshot(filename)\n",
    "    serch_value = f'aaaU{str(i+1).zfill(digit_count)}'\n",
    "\n",
    "    "
   ]
  },
  {
   "cell_type": "code",
   "execution_count": 41,
   "id": "6c19bc2b-4c88-4f70-b4a3-fe246c7ee4c9",
   "metadata": {},
   "outputs": [
    {
     "name": "stdout",
     "output_type": "stream",
     "text": [
      "Requirement already satisfied: pandas in /opt/anaconda3/lib/python3.11/site-packages (2.1.4)\n",
      "Requirement already satisfied: numpy<2,>=1.23.2 in /opt/anaconda3/lib/python3.11/site-packages (from pandas) (1.26.4)\n",
      "Requirement already satisfied: python-dateutil>=2.8.2 in /opt/anaconda3/lib/python3.11/site-packages (from pandas) (2.8.2)\n",
      "Requirement already satisfied: pytz>=2020.1 in /opt/anaconda3/lib/python3.11/site-packages (from pandas) (2023.3.post1)\n",
      "Requirement already satisfied: tzdata>=2022.1 in /opt/anaconda3/lib/python3.11/site-packages (from pandas) (2023.3)\n",
      "Requirement already satisfied: six>=1.5 in /opt/anaconda3/lib/python3.11/site-packages (from python-dateutil>=2.8.2->pandas) (1.16.0)\n",
      "Note: you may need to restart the kernel to use updated packages.\n"
     ]
    }
   ],
   "source": [
    "pip install pandas\n"
   ]
  },
  {
   "cell_type": "code",
   "execution_count": null,
   "id": "6534ffbf-6402-44db-979c-b93d30dae8e3",
   "metadata": {},
   "outputs": [],
   "source": []
  },
  {
   "cell_type": "code",
   "execution_count": null,
   "id": "0b960887-9e8f-4778-87c7-07e6c1039b02",
   "metadata": {},
   "outputs": [],
   "source": []
  },
  {
   "cell_type": "code",
   "execution_count": null,
   "id": "bc31d761-9ff7-45b8-918b-a900bab66eac",
   "metadata": {},
   "outputs": [],
   "source": []
  }
 ],
 "metadata": {
  "celltoolbar": "Slideshow",
  "kernelspec": {
   "display_name": "Python 3 (ipykernel)",
   "language": "python",
   "name": "python3"
  },
  "language_info": {
   "codemirror_mode": {
    "name": "ipython",
    "version": 3
   },
   "file_extension": ".py",
   "mimetype": "text/x-python",
   "name": "python",
   "nbconvert_exporter": "python",
   "pygments_lexer": "ipython3",
   "version": "3.11.7"
  },
  "widgets": {
   "application/vnd.jupyter.widget-state+json": {
    "state": {},
    "version_major": 2,
    "version_minor": 0
   }
  }
 },
 "nbformat": 4,
 "nbformat_minor": 5
}
